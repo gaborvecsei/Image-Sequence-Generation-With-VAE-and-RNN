{
 "cells": [
  {
   "cell_type": "markdown",
   "metadata": {},
   "source": [
    "# Dreamer Network"
   ]
  },
  {
   "cell_type": "code",
   "execution_count": 1,
   "metadata": {},
   "outputs": [
    {
     "name": "stderr",
     "output_type": "stream",
     "text": [
      "Using TensorFlow backend.\n"
     ]
    }
   ],
   "source": [
    "import numpy as np\n",
    "import cv2\n",
    "from pathlib import Path\n",
    "\n",
    "from models.dream_model import DreamerNetwork\n",
    "import utils\n",
    "\n",
    "import matplotlib.pyplot as plt\n",
    "from matplotlib import animation\n",
    "%matplotlib inline\n",
    "plt.style.use(\"ggplot\")\n",
    "\n",
    "from IPython.display import HTML, Image, display, clear_output"
   ]
  },
  {
   "cell_type": "markdown",
   "metadata": {},
   "source": [
    "## Create a simple animation"
   ]
  },
  {
   "cell_type": "code",
   "execution_count": 2,
   "metadata": {},
   "outputs": [],
   "source": [
    "# Generate a really simple animation\n",
    "\n",
    "n_images = 500\n",
    "image_width = 64\n",
    "image_height = 64\n",
    "\n",
    "images = np.zeros((n_images, image_height, image_width, 3), dtype=np.uint8)\n",
    "\n",
    "ball_step_size = 2\n",
    "goes_left = True\n",
    "x = 32\n",
    "y = 32\n",
    "\n",
    "for image in images:\n",
    "    if goes_left:\n",
    "        if x >= image_width:\n",
    "            goes_left = False\n",
    "        x += ball_step_size\n",
    "    else:\n",
    "        if x <= 0:\n",
    "            goes_left = True\n",
    "        x -= ball_step_size\n",
    "        \n",
    "    image = cv2.circle(image, (x, y), 10, (255, 0, 0), cv2.FILLED)"
   ]
  },
  {
   "cell_type": "code",
   "execution_count": 3,
   "metadata": {},
   "outputs": [],
   "source": [
    "images_to_animate = images.copy()[0:200]\n",
    "\n",
    "fig = plt.figure(figsize=(5, 3))\n",
    "\n",
    "ax = fig.add_subplot(1, 1, 1)\n",
    "ax.set_title(\"Real world observation\")\n",
    "ax.set_xticks([])\n",
    "ax.set_yticks([])\n",
    "ax_img = ax.imshow(images_to_animate[0])\n",
    "\n",
    "plt.close()\n",
    "\n",
    "def animate(index_of_frame):\n",
    "    ax_img.set_data(images_to_animate[index_of_frame])\n",
    "    return (ax_img,)\n",
    "\n",
    "anim = animation.FuncAnimation(fig, animate, frames=len(images_to_animate), interval=41, blit=True)\n",
    "\n",
    "animation_file_path = \"./art/simple_animation.mp4\"\n",
    "animation_file_path_gif = str(Path(animation_file_path).with_suffix(\".gif\"))\n",
    "anim.save(animation_file_path, writer='ffmpeg', fps=24)"
   ]
  },
  {
   "cell_type": "code",
   "execution_count": 4,
   "metadata": {},
   "outputs": [],
   "source": [
    "utils.convert_video_to_gif(animation_file_path, animation_file_path_gif)"
   ]
  },
  {
   "cell_type": "code",
   "execution_count": 5,
   "metadata": {},
   "outputs": [
    {
     "data": {
      "text/html": [
       "<img src=\"art\\simple_animation.gif\"/>"
      ],
      "text/plain": [
       "<IPython.core.display.Image object>"
      ]
     },
     "execution_count": 5,
     "metadata": {},
     "output_type": "execute_result"
    }
   ],
   "source": [
    "Image(url=animation_file_path_gif)"
   ]
  },
  {
   "cell_type": "code",
   "execution_count": 6,
   "metadata": {},
   "outputs": [],
   "source": [
    "# images = images.astype(np.float32) / 255.0"
   ]
  },
  {
   "cell_type": "markdown",
   "metadata": {},
   "source": [
    "## Have an experience about the world"
   ]
  },
  {
   "cell_type": "code",
   "execution_count": 7,
   "metadata": {},
   "outputs": [],
   "source": [
    "dream_model = DreamerNetwork(image_height=image_height, image_width=image_width, latent_dim=32, time_steps=4)"
   ]
  },
  {
   "cell_type": "code",
   "execution_count": 8,
   "metadata": {},
   "outputs": [],
   "source": [
    "vae_conf_dict = dream_model.init_default_vae_train_dict()\n",
    "vae_conf_dict[\"callbacks\"] = []"
   ]
  },
  {
   "cell_type": "code",
   "execution_count": 9,
   "metadata": {},
   "outputs": [
    {
     "data": {
      "text/plain": [
       "{'batch_size': 32,\n",
       " 'epochs': 100,\n",
       " 'validation_split': 0.2,\n",
       " 'shuffle': True,\n",
       " 'callbacks': []}"
      ]
     },
     "execution_count": 9,
     "metadata": {},
     "output_type": "execute_result"
    }
   ],
   "source": [
    "vae_conf_dict"
   ]
  },
  {
   "cell_type": "code",
   "execution_count": 10,
   "metadata": {},
   "outputs": [
    {
     "name": "stderr",
     "output_type": "stream",
     "text": [
      "D:\\Projects\\Image-Sequence-Generation-With-VAE-and-RNN\\models\\dream_model.py:47: UserWarning: There is no custom RNN training config dict given. Training with default config:\n",
      "{'batch_size': 32, 'epochs': 100, 'validation_split': 0.2, 'shuffle': True, 'callbacks': [<keras.callbacks.EarlyStopping object at 0x00000154B15CA780>]}\n",
      "  rnn_train_config_dict))\n"
     ]
    },
    {
     "name": "stdout",
     "output_type": "stream",
     "text": [
      "Training VAE...\n",
      "\n",
      "Train on 400 samples, validate on 100 samples\n",
      "Epoch 1/100\n",
      "400/400 [==============================] - 7s 17ms/step - loss: 19722180.0000 - vae_r_loss: 18459467.6000 - vae_kl_loss: 1262711.6224 - val_loss: 18374115.3600 - val_vae_r_loss: 18371445.6800 - val_vae_kl_loss: 2669.1444\n",
      "Epoch 2/100\n",
      "400/400 [==============================] - 0s 990us/step - loss: 18437507.6800 - vae_r_loss: 18435580.9600 - vae_kl_loss: 1927.2322 - val_loss: 18372203.8400 - val_vae_r_loss: 18371242.3200 - val_vae_kl_loss: 961.5633\n",
      "Epoch 3/100\n",
      "400/400 [==============================] - 0s 1ms/step - loss: 18436137.6800 - vae_r_loss: 18435433.6000 - vae_kl_loss: 703.8787 - val_loss: 18371636.8000 - val_vae_r_loss: 18371178.8800 - val_vae_kl_loss: 459.2680\n",
      "Epoch 4/100\n",
      "400/400 [==============================] - 0s 1ms/step - loss: 18435649.8400 - vae_r_loss: 18435269.7600 - vae_kl_loss: 380.1082 - val_loss: 18371277.6000 - val_vae_r_loss: 18370957.6800 - val_vae_kl_loss: 319.9126\n",
      "Epoch 5/100\n",
      "400/400 [==============================] - 0s 1ms/step - loss: 18435468.9600 - vae_r_loss: 18435160.4800 - vae_kl_loss: 308.1363 - val_loss: 18371257.7600 - val_vae_r_loss: 18370926.8800 - val_vae_kl_loss: 331.3761\n",
      "Epoch 6/100\n",
      "400/400 [==============================] - 0s 1ms/step - loss: 18435379.3600 - vae_r_loss: 18435036.8000 - vae_kl_loss: 342.4963 - val_loss: 18371048.3200 - val_vae_r_loss: 18370745.1200 - val_vae_kl_loss: 302.4924\n",
      "Epoch 7/100\n",
      "400/400 [==============================] - 0s 1ms/step - loss: 18435131.2800 - vae_r_loss: 18434870.2400 - vae_kl_loss: 261.5105 - val_loss: 18370855.4400 - val_vae_r_loss: 18370581.6000 - val_vae_kl_loss: 274.3542\n",
      "Epoch 8/100\n",
      "400/400 [==============================] - 0s 1ms/step - loss: 18434932.0000 - vae_r_loss: 18434686.7200 - vae_kl_loss: 244.9918 - val_loss: 18370649.6000 - val_vae_r_loss: 18370417.9200 - val_vae_kl_loss: 231.7394\n",
      "Epoch 9/100\n",
      "400/400 [==============================] - 0s 1ms/step - loss: 18434728.3600 - vae_r_loss: 18434498.6400 - vae_kl_loss: 230.1099 - val_loss: 18370394.0800 - val_vae_r_loss: 18370181.2800 - val_vae_kl_loss: 212.8198\n",
      "Epoch 10/100\n",
      "400/400 [==============================] - 0s 1ms/step - loss: 18434520.8000 - vae_r_loss: 18434321.1200 - vae_kl_loss: 199.5620 - val_loss: 18370240.4800 - val_vae_r_loss: 18370048.7200 - val_vae_kl_loss: 191.2660\n",
      "Epoch 11/100\n",
      "400/400 [==============================] - 0s 1ms/step - loss: 18434372.6400 - vae_r_loss: 18434190.2400 - vae_kl_loss: 181.9849 - val_loss: 18370094.6400 - val_vae_r_loss: 18369917.9200 - val_vae_kl_loss: 176.6900\n",
      "Epoch 12/100\n",
      "400/400 [==============================] - 0s 1ms/step - loss: 18434232.5600 - vae_r_loss: 18434065.4400 - vae_kl_loss: 166.5199 - val_loss: 18369986.4000 - val_vae_r_loss: 18369830.3200 - val_vae_kl_loss: 155.0105\n",
      "Epoch 13/100\n",
      "400/400 [==============================] - 0s 1ms/step - loss: 18434127.4400 - vae_r_loss: 18433958.4800 - vae_kl_loss: 169.2475 - val_loss: 18369856.2400 - val_vae_r_loss: 18369696.1600 - val_vae_kl_loss: 159.8669\n",
      "Epoch 14/100\n",
      "400/400 [==============================] - 0s 1ms/step - loss: 18434029.6000 - vae_r_loss: 18433839.0400 - vae_kl_loss: 190.2332 - val_loss: 18369746.7200 - val_vae_r_loss: 18369577.7600 - val_vae_kl_loss: 168.5601\n",
      "Epoch 15/100\n",
      "400/400 [==============================] - 0s 1ms/step - loss: 18433830.6400 - vae_r_loss: 18433659.5200 - vae_kl_loss: 170.8235 - val_loss: 18369540.0800 - val_vae_r_loss: 18369383.1200 - val_vae_kl_loss: 156.1211\n",
      "Epoch 16/100\n",
      "400/400 [==============================] - 0s 1ms/step - loss: 18433624.1600 - vae_r_loss: 18433454.9600 - vae_kl_loss: 168.8878 - val_loss: 18369276.0800 - val_vae_r_loss: 18369128.0000 - val_vae_kl_loss: 148.0161\n",
      "Epoch 17/100\n",
      "400/400 [==============================] - 0s 1ms/step - loss: 18433370.9600 - vae_r_loss: 18433222.0400 - vae_kl_loss: 148.5238 - val_loss: 18369048.1600 - val_vae_r_loss: 18368913.1200 - val_vae_kl_loss: 135.4332\n",
      "Epoch 18/100\n",
      "400/400 [==============================] - 0s 1ms/step - loss: 18433093.2800 - vae_r_loss: 18432937.3600 - vae_kl_loss: 155.6082 - val_loss: 18368718.6400 - val_vae_r_loss: 18368576.4800 - val_vae_kl_loss: 141.9703\n",
      "Epoch 19/100\n",
      "400/400 [==============================] - 0s 1ms/step - loss: 18432810.4800 - vae_r_loss: 18432658.8800 - vae_kl_loss: 151.1555 - val_loss: 18368479.2000 - val_vae_r_loss: 18368341.6000 - val_vae_kl_loss: 137.2128\n",
      "Epoch 20/100\n",
      "400/400 [==============================] - 0s 1ms/step - loss: 18432591.2400 - vae_r_loss: 18432460.4000 - vae_kl_loss: 130.5680 - val_loss: 18368322.9600 - val_vae_r_loss: 18368187.0400 - val_vae_kl_loss: 134.8968\n",
      "Epoch 21/100\n",
      "400/400 [==============================] - 0s 1ms/step - loss: 18432532.0800 - vae_r_loss: 18432383.8000 - vae_kl_loss: 148.9295 - val_loss: 18368412.8000 - val_vae_r_loss: 18368189.6800 - val_vae_kl_loss: 222.6453\n",
      "Epoch 22/100\n",
      "400/400 [==============================] - 0s 1ms/step - loss: 18432617.2800 - vae_r_loss: 18432367.3600 - vae_kl_loss: 250.3713 - val_loss: 18368297.6800 - val_vae_r_loss: 18368120.0000 - val_vae_kl_loss: 177.4407\n",
      "Epoch 23/100\n",
      "400/400 [==============================] - 0s 1ms/step - loss: 18432455.5200 - vae_r_loss: 18432297.1200 - vae_kl_loss: 158.2141 - val_loss: 18368275.6800 - val_vae_r_loss: 18368103.5200 - val_vae_kl_loss: 171.0099\n",
      "Epoch 24/100\n",
      "400/400 [==============================] - 0s 1ms/step - loss: 18432465.7600 - vae_r_loss: 18432288.5600 - vae_kl_loss: 177.0132 - val_loss: 18368276.2400 - val_vae_r_loss: 18368122.4800 - val_vae_kl_loss: 154.1882\n",
      "Epoch 25/100\n",
      "400/400 [==============================] - 0s 995us/step - loss: 18432648.9600 - vae_r_loss: 18432360.9600 - vae_kl_loss: 287.7901 - val_loss: 18368475.3600 - val_vae_r_loss: 18368137.6000 - val_vae_kl_loss: 337.6123\n",
      "Epoch 26/100\n",
      "400/400 [==============================] - 0s 972us/step - loss: 18432621.2800 - vae_r_loss: 18432344.8000 - vae_kl_loss: 277.0211 - val_loss: 18368351.2800 - val_vae_r_loss: 18368123.6800 - val_vae_kl_loss: 227.9035\n",
      "Epoch 27/100\n",
      "400/400 [==============================] - 0s 1ms/step - loss: 18432450.4000 - vae_r_loss: 18432281.9200 - vae_kl_loss: 168.4612 - val_loss: 18368192.1600 - val_vae_r_loss: 18368042.8800 - val_vae_kl_loss: 149.7552\n",
      "Epoch 28/100\n",
      "400/400 [==============================] - 0s 980us/step - loss: 18432349.2800 - vae_r_loss: 18432219.9200 - vae_kl_loss: 128.6752 - val_loss: 18368112.8000 - val_vae_r_loss: 18368005.6000 - val_vae_kl_loss: 107.1300\n",
      "Epoch 29/100\n",
      "400/400 [==============================] - 0s 980us/step - loss: 18432304.1600 - vae_r_loss: 18432200.4000 - vae_kl_loss: 102.8783 - val_loss: 18368097.2800 - val_vae_r_loss: 18367992.3200 - val_vae_kl_loss: 105.1468\n",
      "Epoch 30/100\n",
      "400/400 [==============================] - 0s 982us/step - loss: 18432284.4800 - vae_r_loss: 18432188.0000 - vae_kl_loss: 97.4151 - val_loss: 18368149.9200 - val_vae_r_loss: 18368024.8000 - val_vae_kl_loss: 124.2811\n",
      "Epoch 31/100\n",
      "400/400 [==============================] - 0s 980us/step - loss: 18432367.5200 - vae_r_loss: 18432234.0000 - vae_kl_loss: 133.2614 - val_loss: 18368211.1200 - val_vae_r_loss: 18368077.6800 - val_vae_kl_loss: 133.5167\n",
      "Epoch 32/100\n",
      "400/400 [==============================] - 0s 967us/step - loss: 18432438.2400 - vae_r_loss: 18432269.9200 - vae_kl_loss: 168.3372 - val_loss: 18368204.5600 - val_vae_r_loss: 18368026.0000 - val_vae_kl_loss: 179.0235\n",
      "Epoch 33/100\n",
      "400/400 [==============================] - 0s 1ms/step - loss: 18432362.2400 - vae_r_loss: 18432224.6400 - vae_kl_loss: 137.4143 - val_loss: 18368119.5200 - val_vae_r_loss: 18368006.6400 - val_vae_kl_loss: 111.7226\n",
      "Epoch 34/100\n",
      "400/400 [==============================] - 0s 965us/step - loss: 18432269.1200 - vae_r_loss: 18432167.2000 - vae_kl_loss: 101.8485 - val_loss: 18368039.8400 - val_vae_r_loss: 18367946.5600 - val_vae_kl_loss: 93.4409\n",
      "Epoch 35/100\n",
      "400/400 [==============================] - 0s 973us/step - loss: 18432245.6000 - vae_r_loss: 18432156.9600 - vae_kl_loss: 88.7666 - val_loss: 18368164.6400 - val_vae_r_loss: 18368036.3200 - val_vae_kl_loss: 127.7463\n",
      "Epoch 36/100\n",
      "400/400 [==============================] - 0s 975us/step - loss: 18432441.2800 - vae_r_loss: 18432269.3600 - vae_kl_loss: 171.7535 - val_loss: 18368193.5200 - val_vae_r_loss: 18368021.4400 - val_vae_kl_loss: 171.4015\n",
      "Epoch 37/100\n",
      "400/400 [==============================] - 0s 957us/step - loss: 18432383.5200 - vae_r_loss: 18432235.0400 - vae_kl_loss: 148.6593 - val_loss: 18368275.7600 - val_vae_r_loss: 18368044.0000 - val_vae_kl_loss: 232.3787\n",
      "Epoch 38/100\n",
      "400/400 [==============================] - 0s 932us/step - loss: 18432535.2000 - vae_r_loss: 18432260.9600 - vae_kl_loss: 274.0798 - val_loss: 18368268.9600 - val_vae_r_loss: 18368045.2000 - val_vae_kl_loss: 224.7568\n",
      "Epoch 39/100\n",
      "400/400 [==============================] - 0s 930us/step - loss: 18432465.2000 - vae_r_loss: 18432273.6000 - vae_kl_loss: 190.8959 - val_loss: 18368357.3600 - val_vae_r_loss: 18368176.9600 - val_vae_kl_loss: 180.7591\n",
      "Epoch 40/100\n",
      "400/400 [==============================] - 0s 940us/step - loss: 18432439.2000 - vae_r_loss: 18432257.5200 - vae_kl_loss: 181.3245 - val_loss: 18368149.4400 - val_vae_r_loss: 18367985.9200 - val_vae_kl_loss: 163.5008\n",
      "Epoch 41/100\n",
      "400/400 [==============================] - 0s 955us/step - loss: 18432334.8800 - vae_r_loss: 18432210.0800 - vae_kl_loss: 124.2815 - val_loss: 18368102.7200 - val_vae_r_loss: 18368000.9600 - val_vae_kl_loss: 102.2696\n",
      "Epoch 42/100\n",
      "400/400 [==============================] - 0s 940us/step - loss: 18432332.0000 - vae_r_loss: 18432228.4000 - vae_kl_loss: 103.6725 - val_loss: 18368116.6400 - val_vae_r_loss: 18368012.8000 - val_vae_kl_loss: 103.6138\n",
      "Epoch 43/100\n",
      "400/400 [==============================] - 0s 958us/step - loss: 18432282.3200 - vae_r_loss: 18432192.1600 - vae_kl_loss: 90.0337 - val_loss: 18368082.3200 - val_vae_r_loss: 18367998.0000 - val_vae_kl_loss: 83.5432\n",
      "Epoch 44/100\n",
      "400/400 [==============================] - 0s 962us/step - loss: 18432225.4400 - vae_r_loss: 18432148.8800 - vae_kl_loss: 75.9294 - val_loss: 18368047.5200 - val_vae_r_loss: 18367966.3200 - val_vae_kl_loss: 80.3961\n",
      "Epoch 45/100\n",
      "400/400 [==============================] - 0s 980us/step - loss: 18432227.2800 - vae_r_loss: 18432153.9200 - vae_kl_loss: 72.9233 - val_loss: 18367995.3600 - val_vae_r_loss: 18367921.6800 - val_vae_kl_loss: 72.5718\n",
      "Epoch 46/100\n",
      "400/400 [==============================] - 0s 985us/step - loss: 18432186.4000 - vae_r_loss: 18432115.5200 - vae_kl_loss: 71.2173 - val_loss: 18367964.0000 - val_vae_r_loss: 18367893.7600 - val_vae_kl_loss: 71.1585\n",
      "Epoch 47/100\n",
      "400/400 [==============================] - 0s 960us/step - loss: 18432164.1600 - vae_r_loss: 18432094.2400 - vae_kl_loss: 70.6338 - val_loss: 18367953.7600 - val_vae_r_loss: 18367881.2000 - val_vae_kl_loss: 72.2537\n",
      "Epoch 48/100\n",
      "400/400 [==============================] - 0s 962us/step - loss: 18432214.8800 - vae_r_loss: 18432135.3600 - vae_kl_loss: 79.5306 - val_loss: 18368117.5200 - val_vae_r_loss: 18367986.7200 - val_vae_kl_loss: 130.9951\n",
      "Epoch 49/100\n",
      "400/400 [==============================] - 0s 952us/step - loss: 18432309.6000 - vae_r_loss: 18432183.3600 - vae_kl_loss: 125.6655 - val_loss: 18368083.6800 - val_vae_r_loss: 18367970.0800 - val_vae_kl_loss: 114.2736\n",
      "Epoch 50/100\n",
      "400/400 [==============================] - 0s 967us/step - loss: 18432268.4800 - vae_r_loss: 18432174.7200 - vae_kl_loss: 93.7425 - val_loss: 18368016.4800 - val_vae_r_loss: 18367931.5200 - val_vae_kl_loss: 84.9501\n",
      "Epoch 51/100\n",
      "400/400 [==============================] - 0s 960us/step - loss: 18432294.5600 - vae_r_loss: 18432178.6400 - vae_kl_loss: 115.9569 - val_loss: 18368126.5600 - val_vae_r_loss: 18367990.2400 - val_vae_kl_loss: 136.2284\n",
      "Epoch 52/100\n",
      "400/400 [==============================] - 0s 973us/step - loss: 18432293.6000 - vae_r_loss: 18432174.0800 - vae_kl_loss: 119.7296 - val_loss: 18368044.8000 - val_vae_r_loss: 18367944.7200 - val_vae_kl_loss: 100.1523\n",
      "Epoch 53/100\n",
      "400/400 [==============================] - 0s 955us/step - loss: 18432217.9200 - vae_r_loss: 18432128.3200 - vae_kl_loss: 89.4506 - val_loss: 18367992.0000 - val_vae_r_loss: 18367906.2400 - val_vae_kl_loss: 86.2792\n",
      "Epoch 54/100\n",
      "400/400 [==============================] - 0s 970us/step - loss: 18432180.9600 - vae_r_loss: 18432103.6800 - vae_kl_loss: 77.2354 - val_loss: 18367956.9600 - val_vae_r_loss: 18367885.9200 - val_vae_kl_loss: 71.1579\n",
      "Epoch 55/100\n",
      "400/400 [==============================] - 0s 927us/step - loss: 18432225.6000 - vae_r_loss: 18432152.4800 - vae_kl_loss: 72.6502 - val_loss: 18368058.2400 - val_vae_r_loss: 18367954.8000 - val_vae_kl_loss: 103.8222\n",
      "Epoch 56/100\n",
      "400/400 [==============================] - 0s 945us/step - loss: 18432243.5200 - vae_r_loss: 18432133.7600 - vae_kl_loss: 110.1906 - val_loss: 18368068.4000 - val_vae_r_loss: 18367952.2400 - val_vae_kl_loss: 117.3805\n",
      "Epoch 57/100\n",
      "400/400 [==============================] - 0s 965us/step - loss: 18432229.1200 - vae_r_loss: 18432127.5200 - vae_kl_loss: 101.8666 - val_loss: 18368005.4400 - val_vae_r_loss: 18367920.3200 - val_vae_kl_loss: 84.5389\n",
      "Epoch 58/100\n",
      "400/400 [==============================] - 0s 960us/step - loss: 18432194.4000 - vae_r_loss: 18432119.8400 - vae_kl_loss: 74.5597 - val_loss: 18368005.1200 - val_vae_r_loss: 18367926.9600 - val_vae_kl_loss: 78.1830\n",
      "Epoch 59/100\n",
      "400/400 [==============================] - 0s 955us/step - loss: 18432203.6800 - vae_r_loss: 18432123.5200 - vae_kl_loss: 80.2895 - val_loss: 18368000.4800 - val_vae_r_loss: 18367919.0400 - val_vae_kl_loss: 81.3507\n",
      "Epoch 60/100\n",
      "400/400 [==============================] - 0s 937us/step - loss: 18432164.7200 - vae_r_loss: 18432093.8400 - vae_kl_loss: 71.0275 - val_loss: 18367953.2000 - val_vae_r_loss: 18367887.7600 - val_vae_kl_loss: 66.1694\n",
      "Epoch 61/100\n",
      "400/400 [==============================] - 0s 970us/step - loss: 18432193.4400 - vae_r_loss: 18432124.0000 - vae_kl_loss: 69.3087 - val_loss: 18368012.9600 - val_vae_r_loss: 18367925.7600 - val_vae_kl_loss: 87.9329\n",
      "Epoch 62/100\n",
      "400/400 [==============================] - 0s 970us/step - loss: 18432194.8000 - vae_r_loss: 18432110.8800 - vae_kl_loss: 84.1463 - val_loss: 18367959.9200 - val_vae_r_loss: 18367884.4000 - val_vae_kl_loss: 75.2827\n",
      "Epoch 63/100\n",
      "400/400 [==============================] - 0s 1ms/step - loss: 18432136.1600 - vae_r_loss: 18432069.2000 - vae_kl_loss: 67.4188 - val_loss: 18367959.5200 - val_vae_r_loss: 18367893.7600 - val_vae_kl_loss: 66.0833\n",
      "Epoch 64/100\n",
      "400/400 [==============================] - 0s 1ms/step - loss: 18432127.1200 - vae_r_loss: 18432064.3200 - vae_kl_loss: 62.7724 - val_loss: 18367917.3600 - val_vae_r_loss: 18367856.1600 - val_vae_kl_loss: 61.1435\n",
      "Epoch 65/100\n",
      "400/400 [==============================] - 0s 982us/step - loss: 18432123.0400 - vae_r_loss: 18432060.8000 - vae_kl_loss: 62.3272 - val_loss: 18368006.8800 - val_vae_r_loss: 18367927.4400 - val_vae_kl_loss: 78.9723\n",
      "Epoch 66/100\n",
      "400/400 [==============================] - 0s 955us/step - loss: 18432199.2000 - vae_r_loss: 18432114.4400 - vae_kl_loss: 84.8876 - val_loss: 18367989.2000 - val_vae_r_loss: 18367910.2400 - val_vae_kl_loss: 79.6978\n",
      "Epoch 67/100\n",
      "400/400 [==============================] - 0s 1ms/step - loss: 18432190.7200 - vae_r_loss: 18432116.0000 - vae_kl_loss: 74.6857 - val_loss: 18367963.0400 - val_vae_r_loss: 18367883.5200 - val_vae_kl_loss: 80.3186\n",
      "Epoch 68/100\n",
      "400/400 [==============================] - 0s 1ms/step - loss: 18432243.5200 - vae_r_loss: 18432121.6000 - vae_kl_loss: 121.5513 - val_loss: 18368073.1200 - val_vae_r_loss: 18367933.4400 - val_vae_kl_loss: 139.9146\n",
      "Epoch 69/100\n",
      "400/400 [==============================] - 0s 927us/step - loss: 18432226.6400 - vae_r_loss: 18432112.8800 - vae_kl_loss: 114.3372 - val_loss: 18368003.6800 - val_vae_r_loss: 18367892.4800 - val_vae_kl_loss: 110.1797\n",
      "Epoch 70/100\n",
      "400/400 [==============================] - 0s 952us/step - loss: 18432186.8800 - vae_r_loss: 18432087.2800 - vae_kl_loss: 99.5660 - val_loss: 18367960.8000 - val_vae_r_loss: 18367875.0400 - val_vae_kl_loss: 86.2645\n",
      "Epoch 71/100\n",
      "400/400 [==============================] - 0s 955us/step - loss: 18432166.0800 - vae_r_loss: 18432091.8400 - vae_kl_loss: 74.0654 - val_loss: 18367941.1200 - val_vae_r_loss: 18367875.7600 - val_vae_kl_loss: 65.3278\n",
      "Epoch 72/100\n",
      "400/400 [==============================] - 0s 962us/step - loss: 18432237.1200 - vae_r_loss: 18432138.8000 - vae_kl_loss: 98.2579 - val_loss: 18368070.9600 - val_vae_r_loss: 18367949.8400 - val_vae_kl_loss: 122.0130\n",
      "Epoch 73/100\n",
      "400/400 [==============================] - 0s 927us/step - loss: 18432237.6000 - vae_r_loss: 18432124.9600 - vae_kl_loss: 112.7212 - val_loss: 18368109.6000 - val_vae_r_loss: 18368012.5600 - val_vae_kl_loss: 97.0569\n",
      "Epoch 74/100\n",
      "400/400 [==============================] - 0s 957us/step - loss: 18432351.2000 - vae_r_loss: 18432197.7600 - vae_kl_loss: 154.2479 - val_loss: 18368187.1200 - val_vae_r_loss: 18367990.5600 - val_vae_kl_loss: 195.6992\n",
      "Epoch 75/100\n",
      "400/400 [==============================] - 0s 990us/step - loss: 18432325.9200 - vae_r_loss: 18432168.8000 - vae_kl_loss: 156.9549 - val_loss: 18368056.1600 - val_vae_r_loss: 18367946.7200 - val_vae_kl_loss: 109.0744\n",
      "Epoch 76/100\n",
      "400/400 [==============================] - 0s 958us/step - loss: 18432213.4400 - vae_r_loss: 18432129.1200 - vae_kl_loss: 84.4151 - val_loss: 18367984.9600 - val_vae_r_loss: 18367915.3600 - val_vae_kl_loss: 69.7990\n",
      "Epoch 77/100\n",
      "400/400 [==============================] - 0s 960us/step - loss: 18432168.0800 - vae_r_loss: 18432104.8000 - vae_kl_loss: 63.0591 - val_loss: 18367943.8400 - val_vae_r_loss: 18367884.7200 - val_vae_kl_loss: 58.2022\n",
      "Epoch 78/100\n",
      "400/400 [==============================] - 0s 940us/step - loss: 18432139.6800 - vae_r_loss: 18432084.8000 - vae_kl_loss: 55.3507 - val_loss: 18368039.4400 - val_vae_r_loss: 18367983.5200 - val_vae_kl_loss: 57.0506\n",
      "Epoch 79/100\n",
      "400/400 [==============================] - 0s 963us/step - loss: 18432140.4000 - vae_r_loss: 18432084.8800 - vae_kl_loss: 56.2780 - val_loss: 18367935.5200 - val_vae_r_loss: 18367881.6000 - val_vae_kl_loss: 54.3107\n",
      "Epoch 80/100\n",
      "400/400 [==============================] - 0s 940us/step - loss: 18432146.2400 - vae_r_loss: 18432091.2000 - vae_kl_loss: 54.7694 - val_loss: 18367945.1200 - val_vae_r_loss: 18367879.6000 - val_vae_kl_loss: 65.9226\n",
      "Epoch 81/100\n",
      "400/400 [==============================] - 0s 937us/step - loss: 18432128.0800 - vae_r_loss: 18432063.5200 - vae_kl_loss: 64.6169 - val_loss: 18367911.6800 - val_vae_r_loss: 18367852.2400 - val_vae_kl_loss: 58.9347\n",
      "Epoch 82/100\n",
      "400/400 [==============================] - 0s 957us/step - loss: 18432135.8400 - vae_r_loss: 18432079.6000 - vae_kl_loss: 56.3994 - val_loss: 18367966.4000 - val_vae_r_loss: 18367905.4400 - val_vae_kl_loss: 61.6630\n",
      "Epoch 83/100\n",
      "400/400 [==============================] - 0s 947us/step - loss: 18432183.0400 - vae_r_loss: 18432122.2400 - vae_kl_loss: 60.7176 - val_loss: 18367969.2000 - val_vae_r_loss: 18367911.1200 - val_vae_kl_loss: 57.9253\n",
      "Epoch 84/100\n",
      "400/400 [==============================] - 0s 932us/step - loss: 18432179.9200 - vae_r_loss: 18432118.5200 - vae_kl_loss: 61.2694 - val_loss: 18367975.0400 - val_vae_r_loss: 18367914.1600 - val_vae_kl_loss: 60.3183\n",
      "Epoch 85/100\n",
      "400/400 [==============================] - 0s 965us/step - loss: 18432154.1600 - vae_r_loss: 18432096.9600 - vae_kl_loss: 57.0425 - val_loss: 18368205.7600 - val_vae_r_loss: 18368150.8800 - val_vae_kl_loss: 54.6862\n",
      "Epoch 86/100\n",
      "400/400 [==============================] - 0s 945us/step - loss: 18432156.9600 - vae_r_loss: 18432101.2800 - vae_kl_loss: 55.8374 - val_loss: 18368034.4800 - val_vae_r_loss: 18367915.6800 - val_vae_kl_loss: 118.8384\n",
      "Epoch 87/100\n",
      "400/400 [==============================] - 0s 938us/step - loss: 18432510.8800 - vae_r_loss: 18432194.8800 - vae_kl_loss: 316.6557 - val_loss: 18368394.1600 - val_vae_r_loss: 18368001.7600 - val_vae_kl_loss: 392.4614\n",
      "Epoch 88/100\n",
      "400/400 [==============================] - 0s 922us/step - loss: 18432457.7200 - vae_r_loss: 18432157.8000 - vae_kl_loss: 299.9138 - val_loss: 18368110.5600 - val_vae_r_loss: 18367911.0400 - val_vae_kl_loss: 199.0977\n",
      "Epoch 89/100\n",
      "400/400 [==============================] - 0s 1ms/step - loss: 18432273.5200 - vae_r_loss: 18432109.0400 - vae_kl_loss: 163.8742 - val_loss: 18368049.6000 - val_vae_r_loss: 18367918.4000 - val_vae_kl_loss: 131.3441\n",
      "Epoch 90/100\n",
      "400/400 [==============================] - 0s 930us/step - loss: 18432336.3200 - vae_r_loss: 18432184.7200 - vae_kl_loss: 151.5834 - val_loss: 18368186.2400 - val_vae_r_loss: 18368019.6800 - val_vae_kl_loss: 165.8296\n",
      "Epoch 91/100\n",
      "400/400 [==============================] - 0s 1ms/step - loss: 18432323.3600 - vae_r_loss: 18432182.1600 - vae_kl_loss: 141.5888 - val_loss: 18368072.8000 - val_vae_r_loss: 18367954.2400 - val_vae_kl_loss: 117.7128\n",
      "Epoch 92/100\n",
      "400/400 [==============================] - 0s 1ms/step - loss: 18432222.8800 - vae_r_loss: 18432126.2400 - vae_kl_loss: 97.1895 - val_loss: 18367996.4800 - val_vae_r_loss: 18367914.6400 - val_vae_kl_loss: 81.2345\n",
      "Epoch 93/100\n",
      "400/400 [==============================] - 0s 940us/step - loss: 18432168.3200 - vae_r_loss: 18432097.7600 - vae_kl_loss: 71.0416 - val_loss: 18368005.6800 - val_vae_r_loss: 18367942.5600 - val_vae_kl_loss: 62.7646\n",
      "Epoch 94/100\n",
      "400/400 [==============================] - 0s 943us/step - loss: 18432228.8000 - vae_r_loss: 18432154.0800 - vae_kl_loss: 74.4676 - val_loss: 18368019.9200 - val_vae_r_loss: 18367927.9200 - val_vae_kl_loss: 91.6964\n",
      "Epoch 95/100\n",
      "400/400 [==============================] - 0s 937us/step - loss: 18432309.9200 - vae_r_loss: 18432215.9200 - vae_kl_loss: 93.6314 - val_loss: 18368089.2800 - val_vae_r_loss: 18367968.4000 - val_vae_kl_loss: 120.9824\n",
      "Epoch 96/100\n",
      "400/400 [==============================] - 0s 940us/step - loss: 18432350.8800 - vae_r_loss: 18432211.3600 - vae_kl_loss: 138.9526 - val_loss: 18368161.7600 - val_vae_r_loss: 18368016.8800 - val_vae_kl_loss: 145.0018\n",
      "Epoch 97/100\n",
      "400/400 [==============================] - 0s 950us/step - loss: 18432317.4400 - vae_r_loss: 18432189.9200 - vae_kl_loss: 127.3452 - val_loss: 18368063.2000 - val_vae_r_loss: 18367966.2400 - val_vae_kl_loss: 98.4843\n",
      "Epoch 98/100\n",
      "400/400 [==============================] - 0s 952us/step - loss: 18432221.0400 - vae_r_loss: 18432137.1200 - vae_kl_loss: 84.4802 - val_loss: 18368176.2400 - val_vae_r_loss: 18368106.7200 - val_vae_kl_loss: 68.8956\n",
      "Epoch 99/100\n",
      "400/400 [==============================] - 0s 957us/step - loss: 18432260.8000 - vae_r_loss: 18432166.5600 - vae_kl_loss: 94.6703 - val_loss: 18368091.4400 - val_vae_r_loss: 18367977.1200 - val_vae_kl_loss: 115.2896\n",
      "Epoch 100/100\n",
      "400/400 [==============================] - 0s 930us/step - loss: 18432263.2000 - vae_r_loss: 18432159.2000 - vae_kl_loss: 103.9858 - val_loss: 18368029.2800 - val_vae_r_loss: 18367940.1600 - val_vae_kl_loss: 89.7556\n",
      "Preparing data for RNN... \n",
      "\n",
      "Training RNN...\n",
      "\n",
      "Train on 396 samples, validate on 100 samples\n",
      "Epoch 1/100\n",
      "396/396 [==============================] - 2s 5ms/step - loss: 85.5432 - acc: 0.0000e+00 - val_loss: 67.9277 - val_acc: 0.0000e+00\n",
      "Epoch 2/100\n",
      "396/396 [==============================] - 0s 1ms/step - loss: 60.6653 - acc: 0.0000e+00 - val_loss: 55.1566 - val_acc: 0.0000e+00\n",
      "Epoch 3/100\n",
      "396/396 [==============================] - 0s 1ms/step - loss: 53.1055 - acc: 0.0000e+00 - val_loss: 50.8180 - val_acc: 0.0000e+00\n",
      "Epoch 4/100\n",
      "396/396 [==============================] - 0s 1ms/step - loss: 49.3819 - acc: 0.0000e+00 - val_loss: 48.5487 - val_acc: 0.0000e+00\n",
      "Epoch 5/100\n",
      "396/396 [==============================] - 0s 1ms/step - loss: 47.0688 - acc: 0.0000e+00 - val_loss: 46.9253 - val_acc: 0.0000e+00\n",
      "Epoch 6/100\n",
      "396/396 [==============================] - 0s 972us/step - loss: 45.6480 - acc: 0.0000e+00 - val_loss: 45.7940 - val_acc: 0.0000e+00\n",
      "Epoch 7/100\n",
      "396/396 [==============================] - 0s 1ms/step - loss: 44.5118 - acc: 0.0000e+00 - val_loss: 45.2144 - val_acc: 0.0000e+00\n",
      "Epoch 8/100\n",
      "396/396 [==============================] - 0s 1ms/step - loss: 43.6747 - acc: 0.0000e+00 - val_loss: 44.2959 - val_acc: 0.0000e+00\n",
      "Epoch 9/100\n",
      "396/396 [==============================] - 0s 1ms/step - loss: 42.7676 - acc: 0.0000e+00 - val_loss: 43.9411 - val_acc: 0.0000e+00\n",
      "Epoch 10/100\n",
      "396/396 [==============================] - 0s 1ms/step - loss: 42.1350 - acc: 0.0000e+00 - val_loss: 43.2888 - val_acc: 0.0000e+00\n",
      "Epoch 11/100\n",
      "396/396 [==============================] - 0s 1ms/step - loss: 41.4306 - acc: 0.0000e+00 - val_loss: 43.0113 - val_acc: 0.0000e+00\n",
      "Epoch 12/100\n",
      "396/396 [==============================] - 0s 1ms/step - loss: 40.7693 - acc: 0.0000e+00 - val_loss: 42.6500 - val_acc: 0.0000e+00\n",
      "Epoch 13/100\n",
      "396/396 [==============================] - 0s 995us/step - loss: 39.9324 - acc: 0.0000e+00 - val_loss: 41.8451 - val_acc: 0.0000e+00\n",
      "Epoch 14/100\n",
      "396/396 [==============================] - 0s 997us/step - loss: 39.0491 - acc: 0.0000e+00 - val_loss: 41.8384 - val_acc: 0.0000e+00\n",
      "Epoch 15/100\n",
      "396/396 [==============================] - 0s 1ms/step - loss: 38.3324 - acc: 0.0000e+00 - val_loss: 40.9457 - val_acc: 0.0000e+00\n",
      "Epoch 16/100\n",
      "396/396 [==============================] - 0s 1ms/step - loss: 37.8324 - acc: 0.0000e+00 - val_loss: 40.4128 - val_acc: 0.0000e+00\n",
      "Epoch 17/100\n",
      "396/396 [==============================] - 0s 1ms/step - loss: 37.0132 - acc: 0.0000e+00 - val_loss: 40.2750 - val_acc: 0.0000e+00\n",
      "Epoch 18/100\n",
      "396/396 [==============================] - 0s 1ms/step - loss: 36.4046 - acc: 0.0000e+00 - val_loss: 39.9658 - val_acc: 0.0000e+00\n",
      "Epoch 19/100\n",
      "396/396 [==============================] - 0s 982us/step - loss: 36.0498 - acc: 0.0000e+00 - val_loss: 39.8253 - val_acc: 0.0000e+00\n",
      "Epoch 20/100\n",
      "396/396 [==============================] - 0s 1ms/step - loss: 35.5330 - acc: 0.0000e+00 - val_loss: 39.2711 - val_acc: 0.0000e+00\n",
      "Epoch 21/100\n",
      "396/396 [==============================] - 0s 995us/step - loss: 34.9587 - acc: 0.0000e+00 - val_loss: 39.1606 - val_acc: 0.0000e+00\n",
      "Epoch 22/100\n",
      "396/396 [==============================] - 0s 1ms/step - loss: 34.3362 - acc: 0.0000e+00 - val_loss: 38.4939 - val_acc: 0.0000e+00\n",
      "Epoch 23/100\n",
      "396/396 [==============================] - 0s 980us/step - loss: 33.3244 - acc: 0.0000e+00 - val_loss: 38.2391 - val_acc: 0.0000e+00\n",
      "Epoch 24/100\n",
      "396/396 [==============================] - 0s 1000us/step - loss: 32.8899 - acc: 0.0000e+00 - val_loss: 37.9149 - val_acc: 0.0000e+00\n",
      "Epoch 25/100\n",
      "396/396 [==============================] - 0s 1ms/step - loss: 32.2869 - acc: 0.0000e+00 - val_loss: 38.6292 - val_acc: 0.0000e+00\n",
      "Epoch 26/100\n",
      "396/396 [==============================] - 0s 997us/step - loss: 31.5601 - acc: 0.0000e+00 - val_loss: 38.4376 - val_acc: 0.0000e+00\n",
      "Epoch 27/100\n",
      "396/396 [==============================] - 0s 1ms/step - loss: 30.7222 - acc: 0.0000e+00 - val_loss: 38.2074 - val_acc: 0.0000e+00\n",
      "Epoch 28/100\n",
      "396/396 [==============================] - 0s 990us/step - loss: 30.3404 - acc: 0.0000e+00 - val_loss: 37.9124 - val_acc: 0.0000e+00\n",
      "Epoch 29/100\n",
      "396/396 [==============================] - 0s 977us/step - loss: 30.0835 - acc: 0.0000e+00 - val_loss: 37.3125 - val_acc: 0.0000e+00\n",
      "Epoch 30/100\n",
      "396/396 [==============================] - 0s 1ms/step - loss: 29.2417 - acc: 0.0000e+00 - val_loss: 37.3480 - val_acc: 0.0000e+00\n",
      "Epoch 31/100\n",
      "396/396 [==============================] - 0s 962us/step - loss: 28.8260 - acc: 0.0000e+00 - val_loss: 37.7653 - val_acc: 0.0000e+00\n",
      "Epoch 32/100\n",
      "396/396 [==============================] - 0s 1ms/step - loss: 28.4265 - acc: 0.0000e+00 - val_loss: 37.6377 - val_acc: 0.0000e+00\n",
      "Epoch 33/100\n",
      "396/396 [==============================] - 0s 1ms/step - loss: 27.5440 - acc: 0.0000e+00 - val_loss: 37.3129 - val_acc: 0.0000e+00\n",
      "Epoch 34/100\n",
      "396/396 [==============================] - 0s 1ms/step - loss: 27.4400 - acc: 0.0000e+00 - val_loss: 37.9578 - val_acc: 0.0000e+00\n",
      "Epoch 00034: early stopping\n"
     ]
    }
   ],
   "source": [
    "hist_vae, hist_rnn = dream_model.fit(images, vae_train_config_dict=vae_conf_dict)"
   ]
  },
  {
   "cell_type": "code",
   "execution_count": 11,
   "metadata": {},
   "outputs": [
    {
     "data": {
      "image/png": "[encoded data removed]",
      "text/plain": [
       "<matplotlib.figure.Figure at 0x155accb3eb8>"
      ]
     },
     "metadata": {
      "needs_background": "light"
     },
     "output_type": "display_data"
    }
   ],
   "source": [
    "fig = plt.figure(figsize=(10, 3))\n",
    "\n",
    "ax1 = fig.add_subplot(1, 2, 1)\n",
    "ax1.set_title(\"VAE\")\n",
    "ax1.plot(hist_vae.history[\"vae_kl_loss\"], label=\"KL loss\")\n",
    "ax1.plot(hist_vae.history[\"val_vae_kl_loss\"], label=\"KL loss Validation\")\n",
    "ax1.legend()\n",
    "\n",
    "ax2 = fig.add_subplot(1, 2, 2)\n",
    "ax2.set_title(\"RNN\")\n",
    "ax2.plot(hist_vae.history[\"loss\"], label=\"loss\")\n",
    "ax2.plot(hist_vae.history[\"val_loss\"], label=\"loss validation\")\n",
    "ax2.legend();"
   ]
  },
  {
   "cell_type": "markdown",
   "metadata": {},
   "source": [
    "## Let's Dream"
   ]
  },
  {
   "cell_type": "code",
   "execution_count": 12,
   "metadata": {},
   "outputs": [],
   "source": [
    "dream_images = dream_model.dream(300, temperature=1.0)"
   ]
  },
  {
   "cell_type": "code",
   "execution_count": 14,
   "metadata": {},
   "outputs": [],
   "source": [
    "fig = plt.figure(figsize=(5, 3))\n",
    "\n",
    "ax = fig.add_subplot(1, 1, 1)\n",
    "ax.set_title(\"Dream of the network about the real world\")\n",
    "ax.set_xticks([])\n",
    "ax.set_yticks([])\n",
    "ax_img = ax.imshow(dream_images[0])\n",
    "\n",
    "plt.close()\n",
    "\n",
    "def animate(index_of_frame):\n",
    "    ax_img.set_data(dream_images[index_of_frame])\n",
    "    return (ax_img,)\n",
    "\n",
    "anim = animation.FuncAnimation(fig, animate, frames=len(dream_images), interval=41, blit=True)\n",
    "\n",
    "dream_animation_file_path = \"./art/simple_dream_animation.mp4\"\n",
    "dream_animation_file_path_gif = str(Path(dream_animation_file_path).with_suffix(\".gif\"))\n",
    "anim.save(dream_animation_file_path, writer='ffmpeg', fps=24)"
   ]
  },
  {
   "cell_type": "code",
   "execution_count": 15,
   "metadata": {},
   "outputs": [],
   "source": [
    "utils.convert_video_to_gif(dream_animation_file_path, dream_animation_file_path_gif)"
   ]
  },
  {
   "cell_type": "code",
   "execution_count": 16,
   "metadata": {},
   "outputs": [
    {
     "data": {
      "text/html": [
       "<img src=\"art\\simple_dream_animation.gif\"/>"
      ],
      "text/plain": [
       "<IPython.core.display.Image object>"
      ]
     },
     "execution_count": 16,
     "metadata": {},
     "output_type": "execute_result"
    }
   ],
   "source": [
    "Image(url=dream_animation_file_path_gif)"
   ]
  }
 ],
 "metadata": {
  "kernelspec": {
   "display_name": "Python 3",
   "language": "python",
   "name": "python3"
  },
  "language_info": {
   "codemirror_mode": {
    "name": "ipython",
    "version": 3
   },
   "file_extension": ".py",
   "mimetype": "text/x-python",
   "name": "python",
   "nbconvert_exporter": "python",
   "pygments_lexer": "ipython3",
   "version": "3.6.2"
  }
 },
 "nbformat": 4,
 "nbformat_minor": 2
}
